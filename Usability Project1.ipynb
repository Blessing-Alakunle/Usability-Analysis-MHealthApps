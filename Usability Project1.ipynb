{
 "cells": [
  {
   "cell_type": "markdown",
   "id": "090b32b1-6fba-429d-81a3-0a4ba8bae489",
   "metadata": {},
   "source": [
    "## Deep Learning Models\n",
    "## Implementing LSTM for Sentiment Analysis."
   ]
  },
  {
   "cell_type": "markdown",
   "id": "7d7db838-a212-486a-a872-5004da22e4a8",
   "metadata": {},
   "source": [
    "### Continuing from the previous notebook, the saved training and testing files will be loaded here."
   ]
  },
  {
   "cell_type": "code",
   "execution_count": 1,
   "id": "c53056a0-48ef-4249-aca4-5e2fd41b258b",
   "metadata": {},
   "outputs": [],
   "source": [
    "import pandas as pd\n",
    "\n",
    "# Load CSV files\n",
    "X_train = pd.read_csv('X_train.csv')\n",
    "X_test = pd.read_csv('X_test.csv')\n",
    "y_train = pd.read_csv('y_train.csv')\n",
    "y_test = pd.read_csv('y_test.csv')\n"
   ]
  },
  {
   "cell_type": "code",
   "execution_count": 2,
   "id": "2330e5a6-3281-423d-9c33-7b08c00d0472",
   "metadata": {},
   "outputs": [
    {
     "name": "stdout",
     "output_type": "stream",
     "text": [
      "X_train head:\n",
      "                                             content\n",
      "0           i find it impossible to log in each time\n",
      "1  useless app i sent a request for medications t...\n",
      "2                                useless information\n",
      "3  excellent service for keeping in contact with ...\n",
      "4  i'm not sure why installation stops right at e...\n",
      "\n",
      "X_test head:\n",
      "                                             content\n",
      "0  needs some work keeps asking for info review o...\n",
      "1  app is pointless it keeps removing my insuranc...\n",
      "2  it wont even stay stabile enough for me to sub...\n",
      "3                                       very helpful\n",
      "4  the doctors at the ob rarely use the app i've ...\n",
      "\n",
      "y_train head:\n",
      "  sentiment_label\n",
      "0    non-positive\n",
      "1    non-positive\n",
      "2    non-positive\n",
      "3        positive\n",
      "4    non-positive\n",
      "\n",
      "y_test head:\n",
      "  sentiment_label\n",
      "0    non-positive\n",
      "1    non-positive\n",
      "2    non-positive\n",
      "3        positive\n",
      "4    non-positive\n",
      "Shape of X_train: (149041, 1)\n",
      "Shape of X_test: (37261, 1)\n",
      "Shape of y_train: (149041, 1)\n",
      "Shape of y_test: (37261, 1)\n"
     ]
    }
   ],
   "source": [
    "# Inspect the data\n",
    "print(\"X_train head:\")\n",
    "print(X_train.head())\n",
    "print(\"\\nX_test head:\")\n",
    "print(X_test.head())\n",
    "print(\"\\ny_train head:\")\n",
    "print(y_train.head())\n",
    "print(\"\\ny_test head:\")\n",
    "print(y_test.head())\n",
    "\n",
    "# Check shapes\n",
    "print(f\"Shape of X_train: {X_train.shape}\")\n",
    "print(f\"Shape of X_test: {X_test.shape}\")\n",
    "print(f\"Shape of y_train: {y_train.shape}\")\n",
    "print(f\"Shape of y_test: {y_test.shape}\")\n"
   ]
  },
  {
   "cell_type": "code",
   "execution_count": null,
   "id": "4b716973-cf4e-4df1-abed-54e4a1095bd6",
   "metadata": {},
   "outputs": [],
   "source": []
  },
  {
   "cell_type": "code",
   "execution_count": 3,
   "id": "60029888-45e5-406c-aff4-f946f7ee55d3",
   "metadata": {},
   "outputs": [
    {
     "name": "stdout",
     "output_type": "stream",
     "text": [
      "First 5 entries in X_train: ['i find it impossible to log in each time', \"useless app i sent a request for medications that i desperately need when i head to the pharmacy they didn't have it ready; even though it says they are\", 'useless information', 'excellent service for keeping in contact with your physicians', \"i'm not sure why installation stops right at ending almost complete btw i have or had an existing fmh sign in & it's missing mia\"]\n",
      "Type of X_train: <class 'list'>\n"
     ]
    }
   ],
   "source": [
    "# Convert 'content' column to list if necessary\n",
    "X_train = X_train['content'].tolist()\n",
    "X_test = X_test['content'].tolist()\n",
    "\n",
    "# Verify the conversion\n",
    "print(\"First 5 entries in X_train:\", X_train[:5])\n",
    "print(\"Type of X_train:\", type(X_train))\n"
   ]
  },
  {
   "cell_type": "code",
   "execution_count": 4,
   "id": "2b67a8d2-5fc6-4ed0-b384-aabb8400dea4",
   "metadata": {},
   "outputs": [],
   "source": [
    "# Convert labels if necessary\n",
    "y_train = [1 if label == \"positive\" else 0 for label in y_train]\n",
    "y_test = [1 if label == \"positive\" else 0 for label in y_test]"
   ]
  },
  {
   "cell_type": "code",
   "execution_count": 5,
   "id": "700ee3c2-3bbf-451c-beef-080bf7561699",
   "metadata": {},
   "outputs": [
    {
     "name": "stdout",
     "output_type": "stream",
     "text": [
      "First few entries in X_train after cleaning: ['i find it impossible to log in each time', \"useless app i sent a request for medications that i desperately need when i head to the pharmacy they didn't have it ready; even though it says they are\", 'useless information', 'excellent service for keeping in contact with your physicians', \"i'm not sure why installation stops right at ending almost complete btw i have or had an existing fmh sign in & it's missing mia\"]\n"
     ]
    }
   ],
   "source": [
    "# Handle non-string or NaN values in X_train and X_test\n",
    "X_train = [str(x) if not pd.isnull(x) else \"\" for x in X_train]\n",
    "X_test = [str(x) if not pd.isnull(x) else \"\" for x in X_test]\n",
    "\n",
    "# Verify the data again\n",
    "print(\"First few entries in X_train after cleaning:\", X_train[:5])\n"
   ]
  },
  {
   "cell_type": "code",
   "execution_count": 6,
   "id": "555cdefe-53ea-4320-b69f-5a7f718af7eb",
   "metadata": {},
   "outputs": [
    {
     "name": "stdout",
     "output_type": "stream",
     "text": [
      "Shape of X_train_pad: (149041, 100)\n",
      "Shape of X_test_pad: (37261, 100)\n"
     ]
    }
   ],
   "source": [
    "from tensorflow.keras.preprocessing.text import Tokenizer\n",
    "from tensorflow.keras.preprocessing.sequence import pad_sequences\n",
    "\n",
    "# Initialize tokenizer\n",
    "tokenizer = Tokenizer(num_words=5000)  # Use top 5000 words\n",
    "tokenizer.fit_on_texts(X_train)        # Fit tokenizer on training data\n",
    "\n",
    "# Convert texts to sequences\n",
    "X_train_seq = tokenizer.texts_to_sequences(X_train)\n",
    "X_test_seq = tokenizer.texts_to_sequences(X_test)\n",
    "\n",
    "# Pad sequences to ensure equal length\n",
    "X_train_pad = pad_sequences(X_train_seq, maxlen=100)  # Adjust maxlen if necessary\n",
    "X_test_pad = pad_sequences(X_test_seq, maxlen=100)\n",
    "\n",
    "# Verify the padded data\n",
    "print(f\"Shape of X_train_pad: {X_train_pad.shape}\")\n",
    "print(f\"Shape of X_test_pad: {X_test_pad.shape}\")\n"
   ]
  },
  {
   "cell_type": "code",
   "execution_count": 7,
   "id": "7b3f0dae-0fc7-4c13-b03f-9b53a6f3d946",
   "metadata": {},
   "outputs": [
    {
     "name": "stdout",
     "output_type": "stream",
     "text": [
      "  sentiment_label\n",
      "0    non-positive\n",
      "1    non-positive\n",
      "2    non-positive\n",
      "3        positive\n",
      "4    non-positive\n",
      "(149041, 1)\n"
     ]
    }
   ],
   "source": [
    "import pandas as pd\n",
    "\n",
    "# Reload the y_train file to inspect its structure\n",
    "y_train_df = pd.read_csv('y_train.csv')\n",
    "\n",
    "# Inspect the first few rows\n",
    "print(y_train_df.head())\n",
    "print(y_train_df.shape)\n"
   ]
  },
  {
   "cell_type": "code",
   "execution_count": 8,
   "id": "d75b4bf9-9580-4bd0-98e2-e4c3daf4aa2a",
   "metadata": {},
   "outputs": [
    {
     "name": "stdout",
     "output_type": "stream",
     "text": [
      "First 5 labels in y_train: ['non-positive', 'non-positive', 'non-positive', 'positive', 'non-positive']\n",
      "Number of labels in y_train: 149041\n"
     ]
    }
   ],
   "source": [
    "# Extract the 'sentiment_label' column as a list\n",
    "y_train = y_train_df['sentiment_label'].tolist()\n",
    "\n",
    "# Verify the first few labels\n",
    "print(\"First 5 labels in y_train:\", y_train[:5])\n",
    "print(f\"Number of labels in y_train: {len(y_train)}\")\n"
   ]
  },
  {
   "cell_type": "code",
   "execution_count": 9,
   "id": "99fa3160-be35-464b-983c-c2b9f93a5c2d",
   "metadata": {},
   "outputs": [
    {
     "name": "stdout",
     "output_type": "stream",
     "text": [
      "First 5 numerical labels in y_train: [0. 0. 0. 1. 0.]\n",
      "Unique labels in y_train: [0. 1.]\n",
      "Number of labels in y_train: 149041\n"
     ]
    }
   ],
   "source": [
    "# Convert string labels to integers\n",
    "y_train = [1 if label == \"positive\" else 0 for label in y_train]\n",
    "\n",
    "# Convert to numpy array for TensorFlow compatibility\n",
    "import numpy as np\n",
    "y_train = np.array(y_train, dtype=np.float32)\n",
    "\n",
    "# Verify the conversion\n",
    "print(\"First 5 numerical labels in y_train:\", y_train[:5])\n",
    "print(\"Unique labels in y_train:\", np.unique(y_train))  # Should output [0. 1.]\n",
    "print(f\"Number of labels in y_train: {len(y_train)}\")\n"
   ]
  },
  {
   "cell_type": "code",
   "execution_count": 10,
   "id": "e2ca379d-b792-41e0-86e5-3d5c126f0068",
   "metadata": {},
   "outputs": [
    {
     "name": "stdout",
     "output_type": "stream",
     "text": [
      "First 5 numerical labels in y_test: [0. 0. 0. 1. 0.]\n",
      "Unique labels in y_test: [0. 1.]\n",
      "Number of labels in y_test: 37261\n"
     ]
    }
   ],
   "source": [
    "# Load y_test.csv and extract labels\n",
    "y_test_df = pd.read_csv('y_test.csv')\n",
    "y_test = y_test_df['sentiment_label'].tolist()\n",
    "\n",
    "# Convert string labels to integers\n",
    "y_test = [1 if label == \"positive\" else 0 for label in y_test]\n",
    "y_test = np.array(y_test, dtype=np.float32)\n",
    "\n",
    "# Verify\n",
    "print(\"First 5 numerical labels in y_test:\", y_test[:5])\n",
    "print(\"Unique labels in y_test:\", np.unique(y_test))\n",
    "print(f\"Number of labels in y_test: {len(y_test)}\")\n"
   ]
  },
  {
   "cell_type": "code",
   "execution_count": 11,
   "id": "473287c0-159e-4bc8-ad4e-4ab1dff4363f",
   "metadata": {},
   "outputs": [
    {
     "name": "stdout",
     "output_type": "stream",
     "text": [
      "Number of samples in X_train_pad: 149041\n",
      "Number of labels in y_train: 149041\n",
      "Number of samples in X_test_pad: 37261\n",
      "Number of labels in y_test: 37261\n"
     ]
    }
   ],
   "source": [
    "# Check alignment for training set\n",
    "print(f\"Number of samples in X_train_pad: {X_train_pad.shape[0]}\")\n",
    "print(f\"Number of labels in y_train: {len(y_train)}\")\n",
    "assert X_train_pad.shape[0] == len(y_train), \"Mismatch between X_train_pad and y_train!\"\n",
    "\n",
    "# Check alignment for test set\n",
    "print(f\"Number of samples in X_test_pad: {X_test_pad.shape[0]}\")\n",
    "print(f\"Number of labels in y_test: {len(y_test)}\")\n",
    "assert X_test_pad.shape[0] == len(y_test), \"Mismatch between X_test_pad and y_test!\"\n"
   ]
  },
  {
   "cell_type": "code",
   "execution_count": null,
   "id": "f5c15db2-1756-4c3b-b598-b36cae0f4052",
   "metadata": {},
   "outputs": [],
   "source": []
  },
  {
   "cell_type": "markdown",
   "id": "1c36a83c-8223-436a-a6f8-7db2b2430b21",
   "metadata": {},
   "source": [
    "### Building the LSTM Model"
   ]
  },
  {
   "cell_type": "code",
   "execution_count": 12,
   "id": "2b442f02-2a89-4f69-8ce2-6dfb90e8237f",
   "metadata": {},
   "outputs": [
    {
     "name": "stderr",
     "output_type": "stream",
     "text": [
      "C:\\Users\\Admin\\AppData\\Local\\Programs\\Python\\Python312\\Lib\\site-packages\\keras\\src\\layers\\core\\embedding.py:90: UserWarning: Argument `input_length` is deprecated. Just remove it.\n",
      "  warnings.warn(\n"
     ]
    },
    {
     "data": {
      "text/html": [
       "<pre style=\"white-space:pre;overflow-x:auto;line-height:normal;font-family:Menlo,'DejaVu Sans Mono',consolas,'Courier New',monospace\"><span style=\"font-weight: bold\">Model: \"sequential\"</span>\n",
       "</pre>\n"
      ],
      "text/plain": [
       "\u001b[1mModel: \"sequential\"\u001b[0m\n"
      ]
     },
     "metadata": {},
     "output_type": "display_data"
    },
    {
     "data": {
      "text/html": [
       "<pre style=\"white-space:pre;overflow-x:auto;line-height:normal;font-family:Menlo,'DejaVu Sans Mono',consolas,'Courier New',monospace\">┏━━━━━━━━━━━━━━━━━━━━━━━━━━━━━━━━━━━━━━┳━━━━━━━━━━━━━━━━━━━━━━━━━━━━━┳━━━━━━━━━━━━━━━━━┓\n",
       "┃<span style=\"font-weight: bold\"> Layer (type)                         </span>┃<span style=\"font-weight: bold\"> Output Shape                </span>┃<span style=\"font-weight: bold\">         Param # </span>┃\n",
       "┡━━━━━━━━━━━━━━━━━━━━━━━━━━━━━━━━━━━━━━╇━━━━━━━━━━━━━━━━━━━━━━━━━━━━━╇━━━━━━━━━━━━━━━━━┩\n",
       "│ embedding (<span style=\"color: #0087ff; text-decoration-color: #0087ff\">Embedding</span>)                │ (<span style=\"color: #00d7ff; text-decoration-color: #00d7ff\">None</span>, <span style=\"color: #00af00; text-decoration-color: #00af00\">100</span>, <span style=\"color: #00af00; text-decoration-color: #00af00\">128</span>)            │         <span style=\"color: #00af00; text-decoration-color: #00af00\">640,000</span> │\n",
       "├──────────────────────────────────────┼─────────────────────────────┼─────────────────┤\n",
       "│ lstm (<span style=\"color: #0087ff; text-decoration-color: #0087ff\">LSTM</span>)                          │ (<span style=\"color: #00d7ff; text-decoration-color: #00d7ff\">None</span>, <span style=\"color: #00af00; text-decoration-color: #00af00\">128</span>)                 │         <span style=\"color: #00af00; text-decoration-color: #00af00\">131,584</span> │\n",
       "├──────────────────────────────────────┼─────────────────────────────┼─────────────────┤\n",
       "│ dropout (<span style=\"color: #0087ff; text-decoration-color: #0087ff\">Dropout</span>)                    │ (<span style=\"color: #00d7ff; text-decoration-color: #00d7ff\">None</span>, <span style=\"color: #00af00; text-decoration-color: #00af00\">128</span>)                 │               <span style=\"color: #00af00; text-decoration-color: #00af00\">0</span> │\n",
       "├──────────────────────────────────────┼─────────────────────────────┼─────────────────┤\n",
       "│ dense (<span style=\"color: #0087ff; text-decoration-color: #0087ff\">Dense</span>)                        │ (<span style=\"color: #00d7ff; text-decoration-color: #00d7ff\">None</span>, <span style=\"color: #00af00; text-decoration-color: #00af00\">1</span>)                   │             <span style=\"color: #00af00; text-decoration-color: #00af00\">129</span> │\n",
       "└──────────────────────────────────────┴─────────────────────────────┴─────────────────┘\n",
       "</pre>\n"
      ],
      "text/plain": [
       "┏━━━━━━━━━━━━━━━━━━━━━━━━━━━━━━━━━━━━━━┳━━━━━━━━━━━━━━━━━━━━━━━━━━━━━┳━━━━━━━━━━━━━━━━━┓\n",
       "┃\u001b[1m \u001b[0m\u001b[1mLayer (type)                        \u001b[0m\u001b[1m \u001b[0m┃\u001b[1m \u001b[0m\u001b[1mOutput Shape               \u001b[0m\u001b[1m \u001b[0m┃\u001b[1m \u001b[0m\u001b[1m        Param #\u001b[0m\u001b[1m \u001b[0m┃\n",
       "┡━━━━━━━━━━━━━━━━━━━━━━━━━━━━━━━━━━━━━━╇━━━━━━━━━━━━━━━━━━━━━━━━━━━━━╇━━━━━━━━━━━━━━━━━┩\n",
       "│ embedding (\u001b[38;5;33mEmbedding\u001b[0m)                │ (\u001b[38;5;45mNone\u001b[0m, \u001b[38;5;34m100\u001b[0m, \u001b[38;5;34m128\u001b[0m)            │         \u001b[38;5;34m640,000\u001b[0m │\n",
       "├──────────────────────────────────────┼─────────────────────────────┼─────────────────┤\n",
       "│ lstm (\u001b[38;5;33mLSTM\u001b[0m)                          │ (\u001b[38;5;45mNone\u001b[0m, \u001b[38;5;34m128\u001b[0m)                 │         \u001b[38;5;34m131,584\u001b[0m │\n",
       "├──────────────────────────────────────┼─────────────────────────────┼─────────────────┤\n",
       "│ dropout (\u001b[38;5;33mDropout\u001b[0m)                    │ (\u001b[38;5;45mNone\u001b[0m, \u001b[38;5;34m128\u001b[0m)                 │               \u001b[38;5;34m0\u001b[0m │\n",
       "├──────────────────────────────────────┼─────────────────────────────┼─────────────────┤\n",
       "│ dense (\u001b[38;5;33mDense\u001b[0m)                        │ (\u001b[38;5;45mNone\u001b[0m, \u001b[38;5;34m1\u001b[0m)                   │             \u001b[38;5;34m129\u001b[0m │\n",
       "└──────────────────────────────────────┴─────────────────────────────┴─────────────────┘\n"
      ]
     },
     "metadata": {},
     "output_type": "display_data"
    },
    {
     "data": {
      "text/html": [
       "<pre style=\"white-space:pre;overflow-x:auto;line-height:normal;font-family:Menlo,'DejaVu Sans Mono',consolas,'Courier New',monospace\"><span style=\"font-weight: bold\"> Total params: </span><span style=\"color: #00af00; text-decoration-color: #00af00\">771,713</span> (2.94 MB)\n",
       "</pre>\n"
      ],
      "text/plain": [
       "\u001b[1m Total params: \u001b[0m\u001b[38;5;34m771,713\u001b[0m (2.94 MB)\n"
      ]
     },
     "metadata": {},
     "output_type": "display_data"
    },
    {
     "data": {
      "text/html": [
       "<pre style=\"white-space:pre;overflow-x:auto;line-height:normal;font-family:Menlo,'DejaVu Sans Mono',consolas,'Courier New',monospace\"><span style=\"font-weight: bold\"> Trainable params: </span><span style=\"color: #00af00; text-decoration-color: #00af00\">771,713</span> (2.94 MB)\n",
       "</pre>\n"
      ],
      "text/plain": [
       "\u001b[1m Trainable params: \u001b[0m\u001b[38;5;34m771,713\u001b[0m (2.94 MB)\n"
      ]
     },
     "metadata": {},
     "output_type": "display_data"
    },
    {
     "data": {
      "text/html": [
       "<pre style=\"white-space:pre;overflow-x:auto;line-height:normal;font-family:Menlo,'DejaVu Sans Mono',consolas,'Courier New',monospace\"><span style=\"font-weight: bold\"> Non-trainable params: </span><span style=\"color: #00af00; text-decoration-color: #00af00\">0</span> (0.00 B)\n",
       "</pre>\n"
      ],
      "text/plain": [
       "\u001b[1m Non-trainable params: \u001b[0m\u001b[38;5;34m0\u001b[0m (0.00 B)\n"
      ]
     },
     "metadata": {},
     "output_type": "display_data"
    }
   ],
   "source": [
    "from tensorflow.keras.models import Sequential\n",
    "from tensorflow.keras.layers import Embedding, LSTM, Dense, Dropout\n",
    "\n",
    "# Define the LSTM model\n",
    "model = Sequential([\n",
    "    Embedding(input_dim=5000, output_dim=128, input_length=100),  # Embedding layer\n",
    "    LSTM(128, return_sequences=False),                           # LSTM layer\n",
    "    Dropout(0.5),                                                # Dropout for regularization\n",
    "    Dense(1, activation='sigmoid')                               # Output layer for binary classification\n",
    "])\n",
    "\n",
    "# Compile the model\n",
    "model.compile(optimizer='adam', loss='binary_crossentropy', metrics=['accuracy'])\n",
    "\n",
    "# Build the model explicitly with the input shape\n",
    "model.build(input_shape=(None, 100))  # None = batch size, 100 = input length (sequence length)\n",
    "\n",
    "# Display the model architecture\n",
    "model.summary()\n"
   ]
  },
  {
   "cell_type": "code",
   "execution_count": 13,
   "id": "5636ee9f-50f5-4ca0-83db-dec0938fe46c",
   "metadata": {},
   "outputs": [
    {
     "name": "stdout",
     "output_type": "stream",
     "text": [
      "Epoch 1/10\n",
      "\u001b[1m4658/4658\u001b[0m \u001b[32m━━━━━━━━━━━━━━━━━━━━\u001b[0m\u001b[37m\u001b[0m \u001b[1m748s\u001b[0m 159ms/step - accuracy: 0.9106 - loss: 0.2370 - val_accuracy: 0.9490 - val_loss: 0.1484\n",
      "Epoch 2/10\n",
      "\u001b[1m4658/4658\u001b[0m \u001b[32m━━━━━━━━━━━━━━━━━━━━\u001b[0m\u001b[37m\u001b[0m \u001b[1m472s\u001b[0m 101ms/step - accuracy: 0.9548 - loss: 0.1353 - val_accuracy: 0.9563 - val_loss: 0.1313\n",
      "Epoch 3/10\n",
      "\u001b[1m4658/4658\u001b[0m \u001b[32m━━━━━━━━━━━━━━━━━━━━\u001b[0m\u001b[37m\u001b[0m \u001b[1m471s\u001b[0m 101ms/step - accuracy: 0.9623 - loss: 0.1098 - val_accuracy: 0.9620 - val_loss: 0.1189\n",
      "Epoch 4/10\n",
      "\u001b[1m4658/4658\u001b[0m \u001b[32m━━━━━━━━━━━━━━━━━━━━\u001b[0m\u001b[37m\u001b[0m \u001b[1m515s\u001b[0m 111ms/step - accuracy: 0.9711 - loss: 0.0877 - val_accuracy: 0.9658 - val_loss: 0.1128\n",
      "Epoch 5/10\n",
      "\u001b[1m4658/4658\u001b[0m \u001b[32m━━━━━━━━━━━━━━━━━━━━\u001b[0m\u001b[37m\u001b[0m \u001b[1m459s\u001b[0m 99ms/step - accuracy: 0.9755 - loss: 0.0748 - val_accuracy: 0.9690 - val_loss: 0.1081\n",
      "Epoch 6/10\n",
      "\u001b[1m4658/4658\u001b[0m \u001b[32m━━━━━━━━━━━━━━━━━━━━\u001b[0m\u001b[37m\u001b[0m \u001b[1m482s\u001b[0m 103ms/step - accuracy: 0.9793 - loss: 0.0635 - val_accuracy: 0.9705 - val_loss: 0.1036\n",
      "Epoch 7/10\n",
      "\u001b[1m4658/4658\u001b[0m \u001b[32m━━━━━━━━━━━━━━━━━━━━\u001b[0m\u001b[37m\u001b[0m \u001b[1m482s\u001b[0m 103ms/step - accuracy: 0.9821 - loss: 0.0548 - val_accuracy: 0.9718 - val_loss: 0.1117\n",
      "Epoch 8/10\n",
      "\u001b[1m4658/4658\u001b[0m \u001b[32m━━━━━━━━━━━━━━━━━━━━\u001b[0m\u001b[37m\u001b[0m \u001b[1m476s\u001b[0m 102ms/step - accuracy: 0.9830 - loss: 0.0511 - val_accuracy: 0.9738 - val_loss: 0.1065\n",
      "Epoch 9/10\n",
      "\u001b[1m4658/4658\u001b[0m \u001b[32m━━━━━━━━━━━━━━━━━━━━\u001b[0m\u001b[37m\u001b[0m \u001b[1m450s\u001b[0m 97ms/step - accuracy: 0.9852 - loss: 0.0426 - val_accuracy: 0.9725 - val_loss: 0.1138\n",
      "Epoch 10/10\n",
      "\u001b[1m4658/4658\u001b[0m \u001b[32m━━━━━━━━━━━━━━━━━━━━\u001b[0m\u001b[37m\u001b[0m \u001b[1m402s\u001b[0m 86ms/step - accuracy: 0.9857 - loss: 0.0413 - val_accuracy: 0.9742 - val_loss: 0.1127\n"
     ]
    }
   ],
   "source": [
    "history = model.fit(\n",
    "    X_train_pad, y_train,                # Training data\n",
    "    validation_data=(X_test_pad, y_test),  # Validation data\n",
    "    epochs=10,                            # Number of epochs\n",
    "    batch_size=32,                        # Batch size\n",
    "    verbose=1                             # Display training progress\n",
    ")\n"
   ]
  },
  {
   "cell_type": "code",
   "execution_count": null,
   "id": "dc0f1d08-25d0-4ed2-a313-f7348837fcab",
   "metadata": {},
   "outputs": [],
   "source": []
  },
  {
   "cell_type": "markdown",
   "id": "4abe3e1d-d4dc-4bcc-94a5-a38f3326db96",
   "metadata": {},
   "source": [
    "### Evaluate the model on a test data"
   ]
  },
  {
   "cell_type": "code",
   "execution_count": 14,
   "id": "6c9c5b62-8392-4af2-8f83-c808f976e461",
   "metadata": {},
   "outputs": [
    {
     "name": "stdout",
     "output_type": "stream",
     "text": [
      "Test Accuracy: 97.42%\n",
      "Test Loss: 0.1127\n"
     ]
    }
   ],
   "source": [
    "# Evaluate the model on test data\n",
    "loss, accuracy = model.evaluate(X_test_pad, y_test, verbose=0)\n",
    "print(f\"Test Accuracy: {accuracy * 100:.2f}%\")\n",
    "print(f\"Test Loss: {loss:.4f}\")\n"
   ]
  },
  {
   "cell_type": "code",
   "execution_count": 15,
   "id": "46058310-f05d-46ab-af25-6a18fd3bb42e",
   "metadata": {},
   "outputs": [
    {
     "data": {
      "image/png": "[encoded data removed]",
      "text/plain": [
       "<Figure size 640x480 with 1 Axes>"
      ]
     },
     "metadata": {},
     "output_type": "display_data"
    },
    {
     "data": {
      "image/png": "[encoded data removed]",
      "text/plain": [
       "<Figure size 640x480 with 1 Axes>"
      ]
     },
     "metadata": {},
     "output_type": "display_data"
    }
   ],
   "source": [
    "import matplotlib.pyplot as plt\n",
    "\n",
    "# Plot accuracy\n",
    "plt.plot(history.history['accuracy'], label='Training Accuracy')\n",
    "plt.plot(history.history['val_accuracy'], label='Validation Accuracy')\n",
    "plt.title('Model Accuracy')\n",
    "plt.xlabel('Epochs')\n",
    "plt.ylabel('Accuracy')\n",
    "plt.legend()\n",
    "plt.savefig('accuracy_plot.png')\n",
    "plt.show()\n",
    "\n",
    "# Plot loss\n",
    "plt.plot(history.history['loss'], label='Training Loss')\n",
    "plt.plot(history.history['val_loss'], label='Validation Loss')\n",
    "plt.title('Model Loss')\n",
    "plt.xlabel('Epochs')\n",
    "plt.ylabel('Loss')\n",
    "plt.legend()\n",
    "plt.savefig('loss_plot.png')\n",
    "plt.show()\n"
   ]
  },
  {
   "cell_type": "code",
   "execution_count": 16,
   "id": "e92aff86-2d36-4b3d-a842-92f829733ed4",
   "metadata": {},
   "outputs": [],
   "source": [
    "### Predict on Test Data"
   ]
  },
  {
   "cell_type": "code",
   "execution_count": 17,
   "id": "0533c03e-9d11-4225-bfc2-09b035be048c",
   "metadata": {},
   "outputs": [
    {
     "name": "stdout",
     "output_type": "stream",
     "text": [
      "\u001b[1m1165/1165\u001b[0m \u001b[32m━━━━━━━━━━━━━━━━━━━━\u001b[0m\u001b[37m\u001b[0m \u001b[1m33s\u001b[0m 28ms/step\n"
     ]
    }
   ],
   "source": [
    "predictions = model.predict(X_test_pad)\n",
    "predictions = (predictions > 0.5).astype(int)  # Convert probabilities to binary labels\n"
   ]
  },
  {
   "cell_type": "code",
   "execution_count": 18,
   "id": "c14b8d96-f02f-4f2d-81d9-119d4513f55e",
   "metadata": {},
   "outputs": [],
   "source": [
    "### Generate a confusion Matrix"
   ]
  },
  {
   "cell_type": "code",
   "execution_count": 19,
   "id": "86b37fd0-3427-4da0-b9f6-1cc65decc488",
   "metadata": {},
   "outputs": [
    {
     "data": {
      "image/png": "[encoded data removed]",
      "text/plain": [
       "<Figure size 640x480 with 2 Axes>"
      ]
     },
     "metadata": {},
     "output_type": "display_data"
    }
   ],
   "source": [
    "from sklearn.metrics import confusion_matrix\n",
    "import seaborn as sns\n",
    "import matplotlib.pyplot as plt\n",
    "\n",
    "cm = confusion_matrix(y_test, predictions)\n",
    "sns.heatmap(cm, annot=True, fmt='d', cmap='Blues', xticklabels=['Non-Positive', 'Positive'], yticklabels=['Non-Positive', 'Positive'])\n",
    "plt.xlabel('Predicted')\n",
    "plt.ylabel('Actual')\n",
    "plt.title('Confusion Matrix')\n",
    "plt.show()\n"
   ]
  },
  {
   "cell_type": "code",
   "execution_count": 20,
   "id": "f6d86ce0-b8ea-40b8-bfb3-1eaf4030317e",
   "metadata": {},
   "outputs": [],
   "source": [
    "### Compute Classification Metrics"
   ]
  },
  {
   "cell_type": "code",
   "execution_count": 21,
   "id": "93289e21-0ec7-4b26-8c11-54663093a4fb",
   "metadata": {},
   "outputs": [
    {
     "name": "stdout",
     "output_type": "stream",
     "text": [
      "Classification Report:\n",
      "              precision    recall  f1-score   support\n",
      "\n",
      "Non-Positive       0.97      0.98      0.97     18730\n",
      "    Positive       0.98      0.97      0.97     18531\n",
      "\n",
      "    accuracy                           0.97     37261\n",
      "   macro avg       0.97      0.97      0.97     37261\n",
      "weighted avg       0.97      0.97      0.97     37261\n",
      "\n",
      "\u001b[1m1165/1165\u001b[0m \u001b[32m━━━━━━━━━━━━━━━━━━━━\u001b[0m\u001b[37m\u001b[0m \u001b[1m32s\u001b[0m 28ms/step\n",
      "ROC-AUC Score: 0.99\n"
     ]
    }
   ],
   "source": [
    "from sklearn.metrics import classification_report, roc_auc_score\n",
    "\n",
    "print(\"Classification Report:\")\n",
    "print(classification_report(y_test, predictions, target_names=['Non-Positive', 'Positive']))\n",
    "\n",
    "auc = roc_auc_score(y_test, model.predict(X_test_pad))\n",
    "print(f\"ROC-AUC Score: {auc:.2f}\")\n"
   ]
  },
  {
   "cell_type": "code",
   "execution_count": 22,
   "id": "8b7babe5-6eb4-43c9-add7-ecbe64106e25",
   "metadata": {},
   "outputs": [
    {
     "name": "stdout",
     "output_type": "stream",
     "text": [
      "Accuracy: 0.97\n",
      "Precision: 0.98\n",
      "Recall: 0.97\n",
      "F1-Score: 0.97\n"
     ]
    }
   ],
   "source": [
    "# Calculate metrics\n",
    "total_samples = cm.sum()\n",
    "accuracy = (cm[0, 0] + cm[1, 1]) / total_samples\n",
    "precision = cm[1, 1] / (cm[1, 1] + cm[0, 1])\n",
    "recall = cm[1, 1] / (cm[1, 1] + cm[1, 0])\n",
    "f1_score = 2 * (precision * recall) / (precision + recall)\n",
    "\n",
    "# Print the metrics\n",
    "print(f\"Accuracy: {accuracy:.2f}\")\n",
    "print(f\"Precision: {precision:.2f}\")\n",
    "print(f\"Recall: {recall:.2f}\")\n",
    "print(f\"F1-Score: {f1_score:.2f}\")\n"
   ]
  },
  {
   "cell_type": "code",
   "execution_count": 23,
   "id": "c0daf3bd-5c81-4cfc-9791-743068200810",
   "metadata": {},
   "outputs": [],
   "source": [
    "### Visualize ROC curve"
   ]
  },
  {
   "cell_type": "code",
   "execution_count": 24,
   "id": "b937e547-0f0f-4c00-aa22-6ce8361b527d",
   "metadata": {},
   "outputs": [
    {
     "name": "stdout",
     "output_type": "stream",
     "text": [
      "\u001b[1m1165/1165\u001b[0m \u001b[32m━━━━━━━━━━━━━━━━━━━━\u001b[0m\u001b[37m\u001b[0m \u001b[1m33s\u001b[0m 28ms/step\n"
     ]
    },
    {
     "data": {
      "image/png": "[encoded data removed]",
      "text/plain": [
       "<Figure size 640x480 with 1 Axes>"
      ]
     },
     "metadata": {},
     "output_type": "display_data"
    }
   ],
   "source": [
    "from sklearn.metrics import roc_curve\n",
    "\n",
    "y_pred_prob = model.predict(X_test_pad).ravel()  # Flatten probabilities\n",
    "fpr, tpr, thresholds = roc_curve(y_test, y_pred_prob)\n",
    "\n",
    "plt.figure()\n",
    "plt.plot(fpr, tpr, label='LSTM (AUC = {:.2f})'.format(auc))\n",
    "plt.plot([0, 1], [0, 1], 'k--', label='Random Guess')\n",
    "plt.xlabel('False Positive Rate')\n",
    "plt.ylabel('True Positive Rate')\n",
    "plt.title('ROC Curve')\n",
    "plt.legend()\n",
    "plt.show()\n"
   ]
  },
  {
   "cell_type": "code",
   "execution_count": 25,
   "id": "a0292ea7-33d7-4d27-a5a2-4de9a3ed6cf1",
   "metadata": {},
   "outputs": [],
   "source": [
    "### Examine Misclassifications"
   ]
  },
  {
   "cell_type": "code",
   "execution_count": 26,
   "id": "0974190e-b5fc-41a2-b4bb-5df21205ae86",
   "metadata": {},
   "outputs": [
    {
     "name": "stdout",
     "output_type": "stream",
     "text": [
      "Review: ok but can't understand why i have to go to healow to leave messages because my doctor's name doesn't come up under messages despite her telling me that this is the system to exclusively use ❓ thanks for responding but where did \"scheduling\" come up in my initial comment ❓\n",
      "Actual: 1.0 (Non-Positive: 0, Positive: 1), Predicted: [0]\n",
      "Review: tried to message my dr but now he dissapeared from the appand without his name listed you can't message \n",
      "Actual: 1.0 (Non-Positive: 0, Positive: 1), Predicted: [0]\n",
      "Review: i love this app but im frustrated as it wont let me change my password i think the account is under a different email\n",
      "Actual: 1.0 (Non-Positive: 0, Positive: 1), Predicted: [0]\n",
      "Review: better than before the last update\n",
      "Actual: 0.0 (Non-Positive: 0, Positive: 1), Predicted: [1]\n",
      "Review: good\n",
      "Actual: 0.0 (Non-Positive: 0, Positive: 1), Predicted: [1]\n"
     ]
    }
   ],
   "source": [
    "incorrect = [(X_test[i], y_test[i], predictions[i]) for i in range(len(y_test)) if y_test[i] != predictions[i]]\n",
    "for review, actual, pred in incorrect[:5]:  # Show the first 5 misclassifications\n",
    "    print(f\"Review: {review}\\nActual: {actual} (Non-Positive: 0, Positive: 1), Predicted: {pred}\")\n"
   ]
  },
  {
   "cell_type": "code",
   "execution_count": 27,
   "id": "6c17cffa-a6f4-4032-8f25-9ed2dda481a3",
   "metadata": {},
   "outputs": [
    {
     "name": "stdout",
     "output_type": "stream",
     "text": [
      "                     Model  Accuracy  Precision  Recall  F1-Score\n",
      "0  Multinomial Naive Bayes      0.92       0.90    0.91      0.90\n",
      "1            Random Forest      0.93       0.92    0.91      0.92\n",
      "2                     LSTM      0.97       0.98    0.97      0.97\n"
     ]
    }
   ],
   "source": [
    "import pandas as pd\n",
    "\n",
    "# Define performance metrics for each model\n",
    "metrics_data = {\n",
    "    \"Model\": [\"Multinomial Naive Bayes\", \"Random Forest\", \"LSTM\"],\n",
    "    \"Accuracy\": [0.92, 0.93, 0.97],\n",
    "    \"Precision\": [0.90, 0.92, 0.98],\n",
    "    \"Recall\": [0.91, 0.91, 0.97],\n",
    "    \"F1-Score\": [0.90, 0.92, 0.97]\n",
    "}\n",
    "\n",
    "# Create a DataFrame\n",
    "metrics_df = pd.DataFrame(metrics_data)\n",
    "\n",
    "# Display the DataFrame\n",
    "print(metrics_df)\n",
    "\n",
    "# Save to a CSV file if needed\n",
    "metrics_df.to_csv(\"model_performance_metrics.csv\", index=False)\n"
   ]
  },
  {
   "cell_type": "code",
   "execution_count": null,
   "id": "ba1bbeb9-9e5b-47e1-91e1-34a1486c6c64",
   "metadata": {},
   "outputs": [],
   "source": []
  },
  {
   "cell_type": "code",
   "execution_count": null,
   "id": "bc2c9cf4-6e3e-4088-99b6-dbd9b2b0b137",
   "metadata": {},
   "outputs": [],
   "source": []
  }
 ],
 "metadata": {
  "kernelspec": {
   "display_name": "Python 3 (ipykernel)",
   "language": "python",
   "name": "python3"
  },
  "language_info": {
   "codemirror_mode": {
    "name": "ipython",
    "version": 3
   },
   "file_extension": ".py",
   "mimetype": "text/x-python",
   "name": "python",
   "nbconvert_exporter": "python",
   "pygments_lexer": "ipython3",
   "version": "3.12.4"
  }
 },
 "nbformat": 4,
 "nbformat_minor": 5
}
